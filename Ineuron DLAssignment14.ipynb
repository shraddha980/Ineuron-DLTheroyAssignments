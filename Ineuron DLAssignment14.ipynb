{
 "cells": [
  {
   "cell_type": "markdown",
   "id": "d6885aa9",
   "metadata": {},
   "source": [
    "1.\tIs it okay to initialize all the weights to the same value as long as that value is selected randomly using He initialization?"
   ]
  },
  {
   "cell_type": "markdown",
   "id": "7fe1791b",
   "metadata": {},
   "source": [
    "Is it okay to initialize all the weights to the same value as long as that value is selected randomly using He initialization? No. All weights should be initialized to different random values and should not have the same initial value."
   ]
  },
  {
   "cell_type": "markdown",
   "id": "56e7938e",
   "metadata": {},
   "source": [
    "2.\tIs it okay to initialize the bias terms to 0?"
   ]
  },
  {
   "cell_type": "markdown",
   "id": "16050a97",
   "metadata": {},
   "source": [
    "Zero Initialization (Initialized all weights to 0)\n",
    "It is important to note that setting biases to 0 will not create any problems as non-zero weights take care of breaking the symmetry and even if bias is 0, the values in every neuron will still be different."
   ]
  },
  {
   "cell_type": "markdown",
   "id": "2a37b036",
   "metadata": {},
   "source": [
    "3.\tName three ways you can produce a sparse model."
   ]
  },
  {
   "cell_type": "markdown",
   "id": "7701454a",
   "metadata": {},
   "source": [
    "Sparse modeling is a rapidly developing area at the intersection of statistical learning and signal processing, motivated by the age-old statistical problem of selecting a small number of predictive variables in high-dimensional datasets."
   ]
  },
  {
   "cell_type": "markdown",
   "id": "2fc174c7",
   "metadata": {},
   "source": [
    "4.\tDoes dropout slow down training? "
   ]
  },
  {
   "cell_type": "markdown",
   "id": "6d6af071",
   "metadata": {},
   "source": [
    "A dropout network may take 2-3 times longer to train than a normal network. Finding a regularizer virtually comparable to a dropout layer is one method to reap the benefits of dropout without slowing down training."
   ]
  },
  {
   "cell_type": "markdown",
   "id": "55fcc063",
   "metadata": {},
   "source": []
  },
  {
   "cell_type": "markdown",
   "id": "b187db0b",
   "metadata": {},
   "source": []
  },
  {
   "cell_type": "code",
   "execution_count": null,
   "id": "cbbb8a01",
   "metadata": {},
   "outputs": [],
   "source": []
  }
 ],
 "metadata": {
  "kernelspec": {
   "display_name": "Python 3 (ipykernel)",
   "language": "python",
   "name": "python3"
  },
  "language_info": {
   "codemirror_mode": {
    "name": "ipython",
    "version": 3
   },
   "file_extension": ".py",
   "mimetype": "text/x-python",
   "name": "python",
   "nbconvert_exporter": "python",
   "pygments_lexer": "ipython3",
   "version": "3.10.9"
  }
 },
 "nbformat": 4,
 "nbformat_minor": 5
}
