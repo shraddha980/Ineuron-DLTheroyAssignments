{
 "cells": [
  {
   "cell_type": "markdown",
   "id": "fae83e4a",
   "metadata": {},
   "source": [
    "1. What exactly is a feature?"
   ]
  },
  {
   "cell_type": "markdown",
   "id": "2344e3bf",
   "metadata": {},
   "source": [
    "In machine learning, a feature is data that's used as the input for ML models to make predictions. Raw data is rarely in a format that is consumable by an ML model, so it needs to be transformed into features. This process is called feature engineering"
   ]
  },
  {
   "cell_type": "markdown",
   "id": "2df23a53",
   "metadata": {},
   "source": [
    "2. What exactly is padding?"
   ]
  },
  {
   "cell_type": "markdown",
   "id": "d00825fb",
   "metadata": {},
   "source": [
    "In machine learning, particularly in the context of neural networks and convolutional neural networks (CNNs), padding is a critical technique used to manage the spatial dimensions of input data. Padding is the process of adding layers of zeros or other values outside the actual data in an input matrix."
   ]
  },
  {
   "cell_type": "markdown",
   "id": "f61782b5",
   "metadata": {},
   "source": [
    "3. What is the concept of stride?"
   ]
  },
  {
   "cell_type": "markdown",
   "id": "80a8bc29",
   "metadata": {},
   "source": [
    "In machine learning, particularly in the context of convolutional neural networks (CNNs), the term \"stride\" refers to the number of pixels by which we move the filter across the input image."
   ]
  },
  {
   "cell_type": "markdown",
   "id": "24084075",
   "metadata": {},
   "source": []
  },
  {
   "cell_type": "markdown",
   "id": "213c6431",
   "metadata": {},
   "source": []
  },
  {
   "cell_type": "markdown",
   "id": "5d65cfbd",
   "metadata": {},
   "source": []
  },
  {
   "cell_type": "markdown",
   "id": "7caf4493",
   "metadata": {},
   "source": []
  },
  {
   "cell_type": "code",
   "execution_count": null,
   "id": "b2366549",
   "metadata": {},
   "outputs": [],
   "source": []
  },
  {
   "cell_type": "code",
   "execution_count": null,
   "id": "3f2e625a",
   "metadata": {},
   "outputs": [],
   "source": []
  },
  {
   "cell_type": "code",
   "execution_count": null,
   "id": "beef624a",
   "metadata": {},
   "outputs": [],
   "source": []
  }
 ],
 "metadata": {
  "kernelspec": {
   "display_name": "Python 3 (ipykernel)",
   "language": "python",
   "name": "python3"
  },
  "language_info": {
   "codemirror_mode": {
    "name": "ipython",
    "version": 3
   },
   "file_extension": ".py",
   "mimetype": "text/x-python",
   "name": "python",
   "nbconvert_exporter": "python",
   "pygments_lexer": "ipython3",
   "version": "3.10.9"
  }
 },
 "nbformat": 4,
 "nbformat_minor": 5
}
