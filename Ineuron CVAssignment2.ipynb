{
 "cells": [
  {
   "cell_type": "markdown",
   "id": "39614010",
   "metadata": {},
   "source": [
    "What exactly is a channel?"
   ]
  },
  {
   "cell_type": "markdown",
   "id": "d24478d5",
   "metadata": {},
   "source": [
    "What is a channel in a CNN?\n",
    "In machine learning, neural networks perform image processing on multi-channeled images. Each channel represents a color, and each pixel consists of three channels. In a color image, there are three channels: red, green, and blue."
   ]
  },
  {
   "cell_type": "markdown",
   "id": "650fa59f",
   "metadata": {},
   "source": [
    "Explain relationship between matrix multiplication and a convolution?"
   ]
  },
  {
   "cell_type": "markdown",
   "id": "6f56c6bb",
   "metadata": {},
   "source": [
    "Convolution can always be seen as matrix multiplication -- this has to be true, because a system that can be implemented by convolution is a linear system (as well as being shift-invariant)."
   ]
  },
  {
   "cell_type": "code",
   "execution_count": null,
   "id": "99a1f9c5",
   "metadata": {},
   "outputs": [],
   "source": []
  },
  {
   "cell_type": "code",
   "execution_count": null,
   "id": "bef57d54",
   "metadata": {},
   "outputs": [],
   "source": []
  },
  {
   "cell_type": "code",
   "execution_count": null,
   "id": "faf5d9d2",
   "metadata": {},
   "outputs": [],
   "source": []
  }
 ],
 "metadata": {
  "kernelspec": {
   "display_name": "Python 3 (ipykernel)",
   "language": "python",
   "name": "python3"
  },
  "language_info": {
   "codemirror_mode": {
    "name": "ipython",
    "version": 3
   },
   "file_extension": ".py",
   "mimetype": "text/x-python",
   "name": "python",
   "nbconvert_exporter": "python",
   "pygments_lexer": "ipython3",
   "version": "3.10.9"
  }
 },
 "nbformat": 4,
 "nbformat_minor": 5
}
