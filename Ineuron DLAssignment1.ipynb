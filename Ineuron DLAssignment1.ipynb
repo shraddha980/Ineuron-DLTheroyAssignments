{
 "cells": [
  {
   "cell_type": "markdown",
   "id": "3cf154f4",
   "metadata": {},
   "source": [
    "1.\tWhat is the function of a summation junction of a neuron? What is threshold activation function?"
   ]
  },
  {
   "cell_type": "markdown",
   "id": "14e62b21",
   "metadata": {},
   "source": [
    "Summation is the additive effect of electrical impulses in multiple numbers coming on a neuromuscular junction. A neuromuscular junction is the junction between a nerve cell and a muscle cell. Individually these stimuli can not generate a response, but together they can generate a response."
   ]
  },
  {
   "cell_type": "markdown",
   "id": "e9c0d14e",
   "metadata": {},
   "source": [
    "2.\tWhat are the benefits of splitting a large dataset into multiple files?"
   ]
  },
  {
   "cell_type": "markdown",
   "id": "f35bdd18",
   "metadata": {},
   "source": [
    "Overall, splitting a data set into two parts can provide a way to evaluate the performance of the neural network and make better decisions about model selection, hyperparameter tuning, and early stopping"
   ]
  },
  {
   "cell_type": "markdown",
   "id": "c757b134",
   "metadata": {},
   "source": [
    "3.\tDuring training, how can you tell that your input pipeline is the bottleneck? What can you do to fix it?"
   ]
  },
  {
   "cell_type": "markdown",
   "id": "3f47982a",
   "metadata": {},
   "source": [
    "A network with a single linear unit is called Adaline (Adaptive Linear Neural). A unit with a linear activation function is called a linear unit. In Adaline, there is only one output unit and output values are bipolar (+1,-1). Weights between the input unit and output unit are adjustable."
   ]
  },
  {
   "cell_type": "markdown",
   "id": "72bb3981",
   "metadata": {},
   "source": [
    "4.\tExplain the ADALINE network model."
   ]
  },
  {
   "cell_type": "markdown",
   "id": "402cabe5",
   "metadata": {},
   "source": [
    "A network with a single linear unit is called Adaline (Adaptive Linear Neural). A unit with a linear activation function is called a linear unit. In Adaline, there is only one output unit and output values are bipolar (+1,-1). Weights between the input unit and output unit are adjustable."
   ]
  },
  {
   "cell_type": "markdown",
   "id": "3b632a43",
   "metadata": {},
   "source": [
    "5.\tWhat is the constraint of a simple perceptron? Why it may fail with a real-world data set?"
   ]
  },
  {
   "cell_type": "markdown",
   "id": "30736cdb",
   "metadata": {},
   "source": [
    "The output of a perceptron can only be a binary number (0 or 1) due to the hard-edge transfer function. It can only be used to classify the linearly separable sets of input vectors. If the input vectors are non-linear, it is not easy to classify them correctly."
   ]
  },
  {
   "cell_type": "code",
   "execution_count": null,
   "id": "1ef3aab4",
   "metadata": {},
   "outputs": [],
   "source": []
  },
  {
   "cell_type": "code",
   "execution_count": null,
   "id": "c7687731",
   "metadata": {},
   "outputs": [],
   "source": []
  },
  {
   "cell_type": "code",
   "execution_count": null,
   "id": "5788cefb",
   "metadata": {},
   "outputs": [],
   "source": []
  }
 ],
 "metadata": {
  "kernelspec": {
   "display_name": "Python 3 (ipykernel)",
   "language": "python",
   "name": "python3"
  },
  "language_info": {
   "codemirror_mode": {
    "name": "ipython",
    "version": 3
   },
   "file_extension": ".py",
   "mimetype": "text/x-python",
   "name": "python",
   "nbconvert_exporter": "python",
   "pygments_lexer": "ipython3",
   "version": "3.10.9"
  }
 },
 "nbformat": 4,
 "nbformat_minor": 5
}
