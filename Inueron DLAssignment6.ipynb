{
 "cells": [
  {
   "cell_type": "markdown",
   "id": "3b6a6fa9",
   "metadata": {},
   "source": [
    "1.\tWhat are the advantages of a CNN over a fully connected DNN for image classification?"
   ]
  },
  {
   "cell_type": "markdown",
   "id": "1a8c77d0",
   "metadata": {},
   "source": [
    "Since images typically have very repetitive features, CNNs are able to generalize much better than DNNs for image processing tasks such as classification, using fewer training examples. Finally, a DNN has no prior knowledge of how pixels are organized; it does not know that nearby pixels are close."
   ]
  },
  {
   "cell_type": "markdown",
   "id": "cfdb6dd6",
   "metadata": {},
   "source": [
    "2.\tIf your GPU runs out of memory while training a CNN, what are five things you could try to solve the problem?"
   ]
  },
  {
   "cell_type": "markdown",
   "id": "60b23c5b",
   "metadata": {},
   "source": [
    "Reduce the mini-batch size. Reduce dimensionality using a larger stride in one or more layers. Remove one or more layers. Use 16-bit floats instead of 32-bit floats. Distribute the CNN across multiple devices. * Max-pooling helps in extracting low-level features like edges, points, etc. While Avg-pooling goes for smooth features"
   ]
  },
  {
   "cell_type": "markdown",
   "id": "64c61b24",
   "metadata": {},
   "source": [
    "3.\tWhy would you want to add a max pooling layer rather than a convolutional layer with the same stride?"
   ]
  },
  {
   "cell_type": "markdown",
   "id": "63b01d63",
   "metadata": {},
   "source": [
    "While the same can be done by convolutional layers with a stride greater than 1, max pool has the advantage of simply taking the max from the kernel sized patch of an input feature map without having to learn weights for that layer."
   ]
  },
  {
   "cell_type": "markdown",
   "id": "be4c32f0",
   "metadata": {},
   "source": [
    "4.\tWhen would you want to add a local response normalization layer?"
   ]
  },
  {
   "cell_type": "markdown",
   "id": "ecc512e7",
   "metadata": {},
   "source": [
    "This is useful when we are dealing with ReLU neurons. ReLU neurons have unbounded activations, and we need local response normalization (LRN) to normalize them. To do this, we need to identify high frequency features. By applying LRN, the neurons becomes more sensitive than their neighbors."
   ]
  },
  {
   "cell_type": "markdown",
   "id": "83480833",
   "metadata": {},
   "source": [
    "5.\tWhat is a fully convolutional network? How can you convert a dense layer into a convolutional layer?"
   ]
  },
  {
   "cell_type": "markdown",
   "id": "23d1d16d",
   "metadata": {},
   "source": [
    "The fully convolutional network first uses a CNN to extract image features, then transforms the number of channels into the number of classes via a 1 × 1 convolutional layer, and finally transforms the height and width of the feature maps to those of the input image via the transposed convolution.The VGG16 network which comes with Keras could be used as an example, where the 7x7x512 output of the last MaxPooling2D() is flattened and then goes into a Dense(4096) layer. In this case the Dense(4096) would be replaced with a 7x7x4096 convolution."
   ]
  },
  {
   "cell_type": "code",
   "execution_count": null,
   "id": "9c42e062",
   "metadata": {},
   "outputs": [],
   "source": []
  }
 ],
 "metadata": {
  "kernelspec": {
   "display_name": "Python 3 (ipykernel)",
   "language": "python",
   "name": "python3"
  },
  "language_info": {
   "codemirror_mode": {
    "name": "ipython",
    "version": 3
   },
   "file_extension": ".py",
   "mimetype": "text/x-python",
   "name": "python",
   "nbconvert_exporter": "python",
   "pygments_lexer": "ipython3",
   "version": "3.10.9"
  }
 },
 "nbformat": 4,
 "nbformat_minor": 5
}
