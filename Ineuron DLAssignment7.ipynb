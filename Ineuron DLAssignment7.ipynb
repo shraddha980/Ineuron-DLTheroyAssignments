{
 "cells": [
  {
   "cell_type": "markdown",
   "id": "497fcf38",
   "metadata": {},
   "source": [
    "1.\tCan you think of a few applications for a sequence-to-sequence RNN? What about a sequence-to-vector RNN, and a vector-to-sequence RNN?"
   ]
  },
  {
   "cell_type": "markdown",
   "id": "f6010ca2",
   "metadata": {},
   "source": [
    "In Sequence to Sequence Learning, RNN is trained to map an input sequence to an output sequence which is not necessarily of the same length. Applications are speech recognition, machine translation, image captioning and question answering.The RNN model takes a single vector as input and produces a sequence as output. An example of these models can be image to sentence model, which takes an image(consider it as a vector) and then produces a sentence to describe that image.\n",
    "The RNN model takes a single vector as input and produces a sequence as output. An example of these models can be image to sentence model, which takes an image(consider it as a vector) and then produces a sentence to describe that image."
   ]
  },
  {
   "cell_type": "markdown",
   "id": "665ca7ba",
   "metadata": {},
   "source": [
    "2.\tHow many dimensions must the inputs of an RNN layer have? "
   ]
  },
  {
   "cell_type": "markdown",
   "id": "f29563b9",
   "metadata": {},
   "source": [
    "Before we get down to business, an important thing to note is that the RNN input needs to have 3 dimensions. Typically it would be batch size, the number of steps and number of features"
   ]
  },
  {
   "cell_type": "markdown",
   "id": "107ff7ce",
   "metadata": {},
   "source": [
    "3. How to build a deep sequence-to-sequence RNN?"
   ]
  },
  {
   "cell_type": "markdown",
   "id": "b98d0f63",
   "metadata": {},
   "source": [
    "In the general case, input sequences and output sequences have different lengths (e.g. machine translation) and the entire input sequence is required in order to start predicting the target. This requires a more advanced setup, which is what people commonly refer to when mentioning \"sequence to sequence models\" with no further context. Here's how it works:\n",
    "\n",
    "A RNN layer (or stack thereof) acts as \"encoder\": it processes the input sequence and returns its own internal state. Note that we discard the outputs of the encoder RNN, only recovering the state. This state will serve as the \"context\", or \"conditioning\", of the decoder in the next step.\n",
    "Another RNN layer (or stack thereof) acts as \"decoder\": it is trained to predict the next characters of the target sequence, given previous characters of the target sequence. Specifically, it is trained to turn the target sequences into the same sequences but offset by one timestep in the future, a training process called \"teacher forcing\" in this context. Importantly, the encoder uses as initial state the state vectors from the encoder, which is how the decoder obtains information about what it is supposed to generate. Effectively, the decoder learns to generate targets[t+1...] given targets[...t], conditioned on the input sequence."
   ]
  },
  {
   "cell_type": "markdown",
   "id": "34dcd5bd",
   "metadata": {},
   "source": [
    "4.\tWhat are the main difficulties when training RNNs? "
   ]
  },
  {
   "cell_type": "markdown",
   "id": "4d7a7b12",
   "metadata": {},
   "source": [
    "RNNs can suffer from the problem of vanishing or exploding gradients, which can make it difficult to train the network effectively. This occurs when the gradients of the loss function with respect to the parameters become very small or very large as they propagate through time"
   ]
  },
  {
   "cell_type": "markdown",
   "id": "a2c22eb8",
   "metadata": {},
   "source": [
    "5.\tWhy would you want to use 1D convolutional layers in an RNN?"
   ]
  },
  {
   "cell_type": "markdown",
   "id": "44852b03",
   "metadata": {},
   "source": [
    "The other main architecture used in this domain is the uni-dimensional convolutional neural network. Before speaking about how it functions, we should describe the core of it, the convolution operation.\n",
    "\n",
    "The convolution of two signals is a mathematical operation, opposed to cross-correlation. It’s uses are vast in the engineering domain from designing filters, controlling dynamical systems and processing images, to new fields such as Deep Learning.The principle is the same, images are just two-dimensional signals. Using such an architecture, the networks learn the best weights for the convolution layers(that acts as filters) in order to extract important components from a signal. For example if you are trying to detect a faulty motor, by measuring it’s rotation as a function of input voltage, you can extract the dominant frequency which differs if the motor is not in it’s proper state. The 1D Convolutional Networks does this extraction automatically choosing the best features to extract from the signal. Like it’s 2D counterpart, you can use complex models such as InceptionTime the counterpart of InceptionNet."
   ]
  },
  {
   "cell_type": "code",
   "execution_count": null,
   "id": "bcafbb65",
   "metadata": {},
   "outputs": [],
   "source": []
  }
 ],
 "metadata": {
  "kernelspec": {
   "display_name": "Python 3 (ipykernel)",
   "language": "python",
   "name": "python3"
  },
  "language_info": {
   "codemirror_mode": {
    "name": "ipython",
    "version": 3
   },
   "file_extension": ".py",
   "mimetype": "text/x-python",
   "name": "python",
   "nbconvert_exporter": "python",
   "pygments_lexer": "ipython3",
   "version": "3.10.9"
  }
 },
 "nbformat": 4,
 "nbformat_minor": 5
}
