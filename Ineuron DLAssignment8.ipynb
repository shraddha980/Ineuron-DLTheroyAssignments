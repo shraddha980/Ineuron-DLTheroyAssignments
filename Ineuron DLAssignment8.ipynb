{
 "cells": [
  {
   "cell_type": "markdown",
   "id": "3c96f887",
   "metadata": {},
   "source": [
    "1.\tWhich neural network architecture could you use to classify videos?"
   ]
  },
  {
   "cell_type": "markdown",
   "id": "c52d917b",
   "metadata": {},
   "source": [
    "By using a combined CNN-RNN architecture, we can get the best of both worlds. The images of a video are fed to a CNN model to extract high-level features. The features are then fed to an RNN layer and the output of the RNN layer is connected to a fully connected layer to get the classification output"
   ]
  },
  {
   "cell_type": "markdown",
   "id": "9dafd547",
   "metadata": {},
   "source": [
    "2.\tWhat are the pros and cons of using a stateful RNN versus a stateless RNN?"
   ]
  },
  {
   "cell_type": "markdown",
   "id": "fefaa398",
   "metadata": {},
   "source": [
    "The benefits of using stateful RNNs are smaller network sizes and/or lower training times. The disadvantage is that we are now responsible for training the network with a batch size that reflects the periodicity of the data, and resetting the state after each epoch."
   ]
  },
  {
   "cell_type": "markdown",
   "id": "88c6757e",
   "metadata": {},
   "source": [
    "3.\tWhat are stateful RNN?"
   ]
  },
  {
   "cell_type": "markdown",
   "id": "b86beae4",
   "metadata": {},
   "source": [
    "Stateful RNNs maintain their internal state across multiple sequences or batches of data. This means that the hidden state of the RNN after processing one sequence is used as the initial state for the next sequence. It enables the model to retain memory and capture long-term dependencies in the data"
   ]
  },
  {
   "cell_type": "markdown",
   "id": "6df5ebfc",
   "metadata": {},
   "source": [
    "4.\tHow can you deal with variable-length input sequences? "
   ]
  },
  {
   "cell_type": "markdown",
   "id": "2f27ba82",
   "metadata": {},
   "source": [
    "In general if inputs are from variable lengths you may fix them to a specific size which let's you input all your data. Theoretically that size is the length of longest sequence in your data and any shorter sequence gets some zeros to become as long as the fixed size."
   ]
  },
  {
   "cell_type": "markdown",
   "id": "68f15379",
   "metadata": {},
   "source": [
    "5.\tWhat is beam search and why would you use it? What tool can you use to implement it?"
   ]
  },
  {
   "cell_type": "markdown",
   "id": "b460f0c8",
   "metadata": {},
   "source": [
    "Beam search is the most popular search strategy for the sequence to sequence Deep NLP algorithms like Neural Machine Translation, Image captioning, Chatbots, etc. Beam search considers multiple best options based on beamwidth using conditional probability, which is better than the sub-optimal Greedy search.In computer science, beam search is a heuristic search algorithm that explores a graph by expanding the most promising node in a limited set. Beam search is an optimization of best-first search that reduces its memory requirements."
   ]
  },
  {
   "cell_type": "code",
   "execution_count": null,
   "id": "99fee9bc",
   "metadata": {},
   "outputs": [],
   "source": []
  }
 ],
 "metadata": {
  "kernelspec": {
   "display_name": "Python 3 (ipykernel)",
   "language": "python",
   "name": "python3"
  },
  "language_info": {
   "codemirror_mode": {
    "name": "ipython",
    "version": 3
   },
   "file_extension": ".py",
   "mimetype": "text/x-python",
   "name": "python",
   "nbconvert_exporter": "python",
   "pygments_lexer": "ipython3",
   "version": "3.10.9"
  }
 },
 "nbformat": 4,
 "nbformat_minor": 5
}
