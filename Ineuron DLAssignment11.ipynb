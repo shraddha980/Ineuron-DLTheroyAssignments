{
 "cells": [
  {
   "cell_type": "markdown",
   "id": "2574b9c0",
   "metadata": {},
   "source": [
    "1.\tWrite the Python code to implement a single neuron."
   ]
  },
  {
   "cell_type": "markdown",
   "id": "25b543ff",
   "metadata": {},
   "source": [
    "\n",
    "from numpy import exp, array, random, dot, tanh\n",
    " \n",
    "class NeuralNetwork():\n",
    "     \n",
    "    def __init__(self):\n",
    "         \n",
    "        # Using seed to make sure it'll  \n",
    "        # generate same weights in every run\n",
    "        random.seed(1)\n",
    "         \n",
    "        # 3x1 Weight matrix\n",
    "        self.weight_matrix = 2 * random.random((3, 1)) - 1\n",
    " \n",
    "    # tanh as activation function\n",
    "    def tanh(self, x):\n",
    "        return tanh(x)\n",
    " \n",
    "    # derivative of tanh function.\n",
    "    # Needed to calculate the gradients.\n",
    "    def tanh_derivative(self, x):\n",
    "        return 1.0 - tanh(x) ** 2\n",
    " \n",
    "    # forward propagation\n",
    "    def forward_propagation(self, inputs):\n",
    "        return self.tanh(dot(inputs, self.weight_matrix))\n",
    "     \n",
    "    # training the neural network.\n",
    "    def train(self, train_inputs, train_outputs,\n",
    "                            num_train_iterations):\n",
    "                                 \n",
    "        # Number of iterations we want to\n",
    "        # perform for this set of input.\n",
    "        for iteration in range(num_train_iterations):\n",
    "            output = self.forward_propagation(train_inputs)\n",
    " \n",
    "            # Calculate the error in the output.\n",
    "            error = train_outputs - output\n",
    " \n",
    "            # multiply the error by input and then \n",
    "            # by gradient of tanh function to calculate\n",
    "            # the adjustment needs to be made in weights\n",
    "            adjustment = dot(train_inputs.T, error *\n",
    "                             self.tanh_derivative(output))\n",
    "                              \n",
    "            # Adjust the weight matrix\n",
    "            self.weight_matrix += adjustment\n",
    " \n",
    "if __name__ == \"__main__\":\n",
    "     \n",
    "    neural_network = NeuralNetwork()\n",
    "     \n",
    "    print ('Random weights at the start of training')\n",
    "    print (neural_network.weight_matrix)\n",
    " \n",
    "    train_inputs = array([[0, 0, 1], [1, 1, 1], [1, 0, 1], [0, 1, 1]])\n",
    "    train_outputs = array([[0, 1, 1, 0]]).T\n",
    " \n",
    "    neural_network.train(train_inputs, train_outputs, 10000)\n",
    " \n",
    "    print ('New weights after training')\n",
    "    print (neural_network.weight_matrix)\n",
    " \n",
    "    # Test the neural network with a new situation.\n",
    "    print (\"Testing network on new examples ->\")\n",
    "    print (neural_network.forward_propagation(array([1, 0, 0])))"
   ]
  },
  {
   "cell_type": "markdown",
   "id": "86fe81ee",
   "metadata": {},
   "source": [
    "2.\tWrite the Python code to implement ReLU."
   ]
  },
  {
   "cell_type": "markdown",
   "id": "4400c7e1",
   "metadata": {},
   "source": [
    "import numpy as np\n",
    "import matplotlib.pyplot as plt\n",
    "\n",
    "def plot_relu():\n",
    "    # Generate values for x\n",
    "    x = np.linspace(-10, 10, 100)\n",
    "\n",
    "    # Compute ReLU values for corresponding x\n",
    "    relu = np.maximum(0, x)\n",
    "\n",
    "    # Plot the ReLU function\n",
    "    plt.plot(x, relu)\n",
    "    plt.title(\"ReLU Activation Function\")\n",
    "    plt.xlabel(\"x\")\n",
    "    plt.ylabel(\"ReLU(x)\")\n",
    "    plt.grid(True)\n",
    "    plt.show()"
   ]
  },
  {
   "cell_type": "markdown",
   "id": "a5dd82fc",
   "metadata": {},
   "source": [
    "3.\tWhat is the “hidden size” of a layer?"
   ]
  },
  {
   "cell_type": "markdown",
   "id": "318b65f5",
   "metadata": {},
   "source": [
    "Hidden size is number of features of the hidden state for RNN. So if you increase hidden size then you compute bigger feature as hidden state output. However, num_layers is just multiple RNN units which contain hidden states with given hidden size"
   ]
  },
  {
   "cell_type": "markdown",
   "id": "8eb43418",
   "metadata": {},
   "source": [
    "4.\tWhy is matrix multiplication written in plain Python very slow?"
   ]
  },
  {
   "cell_type": "markdown",
   "id": "cc660777",
   "metadata": {},
   "source": [
    "There seems to be a lot of discussion on how it is more efficient to use matrices and vectorization, however, I find matrix multiplication to be much slower in Stan than just running loops (see simple example below)."
   ]
  },
  {
   "cell_type": "markdown",
   "id": "a6677395",
   "metadata": {},
   "source": [
    " 5.\tIn Jupyter Notebook, how do you measure the time taken for a single cell to execute?"
   ]
  },
  {
   "cell_type": "markdown",
   "id": "c7011103",
   "metadata": {},
   "source": [
    "Rather than calculating the time it takes for a single line of code to execute, %%timeit will calculate how long it takes to run all the code inside a Jupyter notebook cell. To use it, you simply place %%timeit at the top of a cell, and then run the cell"
   ]
  },
  {
   "cell_type": "code",
   "execution_count": null,
   "id": "91d2597b",
   "metadata": {},
   "outputs": [],
   "source": []
  }
 ],
 "metadata": {
  "kernelspec": {
   "display_name": "Python 3 (ipykernel)",
   "language": "python",
   "name": "python3"
  },
  "language_info": {
   "codemirror_mode": {
    "name": "ipython",
    "version": 3
   },
   "file_extension": ".py",
   "mimetype": "text/x-python",
   "name": "python",
   "nbconvert_exporter": "python",
   "pygments_lexer": "ipython3",
   "version": "3.10.9"
  }
 },
 "nbformat": 4,
 "nbformat_minor": 5
}
