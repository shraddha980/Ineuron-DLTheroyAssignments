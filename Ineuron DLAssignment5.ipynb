{
 "cells": [
  {
   "cell_type": "markdown",
   "id": "90fc051c",
   "metadata": {},
   "source": [
    "1.\tWhen would you need to create a dynamic Keras model? How do you do that? Why not make all your models dynamic?"
   ]
  },
  {
   "cell_type": "markdown",
   "id": "a8a87f8b",
   "metadata": {},
   "source": [
    "Dynamic keras model can be made using batch_shape = (batch_size, input_dim), use batch_shape=(None, input_dim) which allows arbitrary number of batch_size."
   ]
  },
  {
   "cell_type": "markdown",
   "id": "eceb7a0c",
   "metadata": {},
   "source": [
    "2.\tExplain the learning process of an ANN. "
   ]
  },
  {
   "cell_type": "markdown",
   "id": "6f26c939",
   "metadata": {},
   "source": [
    "The process of ANNs learning from data is called supervised learning. In supervised learning, the ANN is given a set of training data, along with the correct output for each piece of data. The ANN then uses this data to learn how to map the input data to the correct output"
   ]
  },
  {
   "cell_type": "markdown",
   "id": "e9e0a086",
   "metadata": {},
   "source": [
    "3.\tExplain, in details, the backpropagation algorithm. What are the limitations of this algorithm?"
   ]
  },
  {
   "cell_type": "markdown",
   "id": "4baff637",
   "metadata": {},
   "source": [
    "The backpropagation algorithm is a generalization of the delta rule, again based on gradient descent to minimize the sum squared difference between the target and the actual network outputs. The analysis is normally based on the assumption of a semilinear activation function (differentiable and monotonic) such as the sigmoid. The algorithm described below follows the original derivation in and proceeds in two stages:\n",
    "\n",
    "•\n",
    "A feedforward phase, where an input vector is applied and the signal propagates through the network layers, modified by the current weights and biases and by the nonlinear activation functions. Corresponding output values then emerge, and these can be compared with the target outputs for the given input vector using a loss function.\n",
    "\n",
    "•\n",
    "A feedback phase: the error signal is then fed back (backpropagated) through the network layers to modify the weights in a way that minimizes the error across the entire training set, effectively minimizing the error surface in weight-space."
   ]
  },
  {
   "cell_type": "markdown",
   "id": "cdb19447",
   "metadata": {},
   "source": [
    "4.\tDescribe, in details, the process of adjusting the interconnection weights in a multi-layer neural network."
   ]
  },
  {
   "cell_type": "markdown",
   "id": "9963376e",
   "metadata": {},
   "source": [
    "If the loss function indicates a high value, the network proceeds with the process of backpropagation, wherein optimizers are utilized to adjust the network's weights and biases, aiming to minimize the loss and improve the overall performance of the neural network."
   ]
  },
  {
   "cell_type": "markdown",
   "id": "b740266f",
   "metadata": {},
   "source": [
    "5. Write note on 3.\tDeep learning and 4.\tLearning rate"
   ]
  },
  {
   "cell_type": "markdown",
   "id": "f2d25490",
   "metadata": {},
   "source": [
    "Deep learning is a method in artificial intelligence (AI) that teaches computers to process data in a way that is inspired by the human brain. Deep learning models can recognize complex patterns in pictures, text, sounds, and other data to produce accurate insights and predictions.\n",
    "\n",
    "In machine learning and statistics, the learning rate is a tuning parameter in an optimization algorithm that determines the step size at each iteration while moving toward a minimum of a loss function."
   ]
  },
  {
   "cell_type": "code",
   "execution_count": null,
   "id": "88dc6bad",
   "metadata": {},
   "outputs": [],
   "source": []
  }
 ],
 "metadata": {
  "kernelspec": {
   "display_name": "Python 3 (ipykernel)",
   "language": "python",
   "name": "python3"
  },
  "language_info": {
   "codemirror_mode": {
    "name": "ipython",
    "version": 3
   },
   "file_extension": ".py",
   "mimetype": "text/x-python",
   "name": "python",
   "nbconvert_exporter": "python",
   "pygments_lexer": "ipython3",
   "version": "3.10.9"
  }
 },
 "nbformat": 4,
 "nbformat_minor": 5
}
