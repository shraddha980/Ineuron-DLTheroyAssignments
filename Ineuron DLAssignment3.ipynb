{
 "cells": [
  {
   "cell_type": "markdown",
   "id": "08ac34fc",
   "metadata": {},
   "source": [
    "1.\tWhat is artificial neural network (ANN)? Explain some of the salient highlights in the different architectural options for ANN."
   ]
  },
  {
   "cell_type": "markdown",
   "id": "ab6ce91a",
   "metadata": {},
   "source": [
    "An Artificial Neural Network (ANN) is an information processing paradigm that is inspired by the brain. ANNs, like people, learn by examples. An ANN is configured for a specific application, such as pattern recognition or data classification, through a learning process. Learning largely involves adjustments to the synaptic connections that exist between the neurons. \n",
    "\n",
    "Artificial Neural Networks (ANNs) are a type of machine learning model that are inspired by the structure and function of the human brain. They consist of layers of interconnected “neurons” that process and transmit information.\n",
    "\n",
    "There are several different architectures for ANNs, each with their own strengths and weaknesses. Some of the most common architectures include:\n",
    "\n",
    "Feedforward Neural Networks: This is the simplest type of ANN architecture, where the information flows in one direction from input to output. The layers are fully connected, meaning each neuron in a layer is connected to all the neurons in the next layer.\n",
    "\n",
    "Recurrent Neural Networks (RNNs): These networks have a “memory” component, where information can flow in cycles through the network. This allows the network to process sequences of data, such as time series or speech.\n",
    "\n",
    "Convolutional Neural Networks (CNNs): These networks are designed to process data with a grid-like topology, such as images. The layers consist of convolutional layers, which learn to detect specific features in the data, and pooling layers, which reduce the spatial dimensions of the data.\n",
    "\n",
    "Autoencoders: These are neural networks that are used for unsupervised learning. They consist of an encoder that maps the input data to a lower-dimensional representation and a decoder that maps the representation back to the original data.\n",
    "\n",
    "Generative Adversarial Networks (GANs): These are neural networks that are used for generative modeling. They consist of two parts: a generator that learns to generate new data samples, and a discriminator that learns to distinguish between real and generated data.\n",
    "\n",
    "The model of an artificial neural network can be specified by three entities: \n",
    " \n",
    "\n",
    "Interconnections\n",
    "Activation functions\n",
    "Learning rules\n",
    "Interconnections:\n",
    "Interconnection can be defined as the way processing elements (Neuron) in ANN are connected to each other. Hence, the arrangements of these processing elements and geometry of interconnections are very essential in ANN. \n",
    "These arrangements always have two layers that are common to all network architectures, the Input layer and output layer where the input layer buffers the input signal, and the output layer generates the output of the network. The third layer is the Hidden layer, in which neurons are neither kept in the input layer nor in the output layer. These neurons are hidden from the people who are interfacing with the system and act as a black box to them. By increasing the hidden layers with neurons, the system’s computational and processing power can be increased but the training phenomena of the system get more complex at the same time. \n",
    "\n",
    "There exist five basic types of neuron connection architecture : \n",
    "Single-layer feed-forward network\n",
    "Multilayer feed-forward network\n",
    "Single node with its own feedback\n",
    "Single-layer recurrent network\n",
    "Multilayer recurrent network"
   ]
  },
  {
   "cell_type": "markdown",
   "id": "161e9a8f",
   "metadata": {},
   "source": [
    "    2. Is it OK to initialize all the weights to the same value as long as that value is selected randomly using He initialization?"
   ]
  },
  {
   "cell_type": "markdown",
   "id": "6ce17810",
   "metadata": {},
   "source": [
    "Is it okay to initialize all the weights to the same value as long as that value is selected randomly using He initialization? No. All weights should be initialized to different random values and should not have the same initial value."
   ]
  },
  {
   "cell_type": "markdown",
   "id": "580d707a",
   "metadata": {},
   "source": [
    "3.\tIs it OK to initialize the bias terms to 0?"
   ]
  },
  {
   "cell_type": "markdown",
   "id": "879be427",
   "metadata": {},
   "source": [
    "Thus, there is not a problem of diminishing or explosion of gradients for the bias terms. So, Biases can be safely initialized to 0."
   ]
  },
  {
   "cell_type": "markdown",
   "id": "d4a860d1",
   "metadata": {},
   "source": [
    "4.\tName three advantages of the SELU activation function over ReLU."
   ]
  },
  {
   "cell_type": "markdown",
   "id": "70588a15",
   "metadata": {},
   "source": [
    "Advantages of SELU\n",
    "Like ReLU, SELU does not have vanishing gradient problem and hence, is used in deep neural networks.\n",
    "Compared to ReLUs, SELUs cannot die.\n",
    "SELUs learn faster and better than other activation functions without needing further procession."
   ]
  },
  {
   "cell_type": "markdown",
   "id": "8f71f48f",
   "metadata": {},
   "source": [
    "5.\tName three ways you can produce a sparse model."
   ]
  },
  {
   "cell_type": "markdown",
   "id": "9b36dee5",
   "metadata": {},
   "source": [
    "You can obtain a sparse linearized model from a structural or a thermal PDE model by using the linearize (Partial Differential Equation Toolbox) function. For a structural analysis model, linearize extracts a mechss model."
   ]
  },
  {
   "cell_type": "code",
   "execution_count": null,
   "id": "f553df46",
   "metadata": {},
   "outputs": [],
   "source": []
  }
 ],
 "metadata": {
  "kernelspec": {
   "display_name": "Python 3 (ipykernel)",
   "language": "python",
   "name": "python3"
  },
  "language_info": {
   "codemirror_mode": {
    "name": "ipython",
    "version": 3
   },
   "file_extension": ".py",
   "mimetype": "text/x-python",
   "name": "python",
   "nbconvert_exporter": "python",
   "pygments_lexer": "ipython3",
   "version": "3.10.9"
  }
 },
 "nbformat": 4,
 "nbformat_minor": 5
}
