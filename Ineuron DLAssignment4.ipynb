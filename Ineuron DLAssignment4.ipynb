{
 "cells": [
  {
   "cell_type": "markdown",
   "id": "f22d21c8",
   "metadata": {},
   "source": [
    "1.\tDoes dropout slow down training? Does it slow down inference (i.e., making predictions on new instances)? What about MC Dropout?"
   ]
  },
  {
   "cell_type": "markdown",
   "id": "04cef346",
   "metadata": {},
   "source": [
    "A dropout network may take 2-3 times longer to train than a normal network. Finding a regularizer virtually comparable to a dropout layer is one method to reap the benefits of dropout without slowing down training. This regularizer is a modified variant of L2 regularisation for linear regression.Concisely, MC-dropout is a method of performing multiple stochastic forward passes with the means of activated dropout in a neural network during the testing process to provide ensemble of predictions that could reflect uncertainty estimations"
   ]
  },
  {
   "cell_type": "markdown",
   "id": "e33f9f53",
   "metadata": {},
   "source": [
    "2.\tHow would you describe TensorFlow in a short sentence? What are its main features? "
   ]
  },
  {
   "cell_type": "markdown",
   "id": "65f8aa2f",
   "metadata": {},
   "source": [
    "TensorFlow is an open source framework developed by Google researchers to run machine learning, deep learning and other statistical and predictive analytics workloads.Below, we are discussing some important TensorFlow Features:\n",
    "\n",
    "a. Responsive Construct\n",
    "With TensorFlow we can easily visualize each and every part of the graph which is not an option while using Numpy or SciKit.\n",
    "\n",
    "b. Flexible\n",
    "One of the very important Tensorflow Features is that it is flexible in its operability, meaning it has modularity and the parts of it which you want to make standalone, it offers you that option.\n",
    "\n",
    "c. Easily Trainable\n",
    "It is easily trainable on CPU as well as GPU for distributed computing.\n",
    "\n",
    "d. Parallel Neural Network Training\n",
    "TensorFlow offers pipelining in the sense that you can train multiple neural networks and multiple GPUs which makes the models very efficient on large-scale systems.\n",
    "\n",
    "c. Easily Trainable\n",
    "It is easily trainable on CPU as well as GPU for distributed computing.\n",
    "\n",
    "d. Parallel Neural Network Training\n",
    "TensorFlow offers pipelining in the sense that you can train multiple neural networks and multiple GPUs which makes the models very efficient on large-scale systems.\n",
    "\n",
    "g. Feature Columns\n",
    "Tensorflow has feature columns that could be thought of as intermediaries between raw data and estimators, therefore, bridging input data with your model.\n",
    "\n",
    "h. Availability of Statistical Distributions\n",
    "The library provides distribution functions including Bernoulli, Beta, Chi2, Uniform, Gamma, which are important especially while considering probabilistic approaches such as Bayesian models.\n",
    "i. Layered Components\n",
    "TensorFlow includes functions like tf.contrib.layers that produce layered operations of weights and biases and also provide batch normalization, convolution layer, dropout layer, etc.\n",
    "So tf.contrib.layers.optimizers has optimizers such as Adagrad, SGD, Momentum which are often used to solve optimization problems for numerical analysis, it provides initializers with tf.contrib.layers.initializers used to maintain the gradient scale."
   ]
  },
  {
   "cell_type": "markdown",
   "id": "353dcf05",
   "metadata": {},
   "source": [
    "3.\tIs TensorFlow a drop-in replacement for NumPy? What are the main differences between the two?"
   ]
  },
  {
   "cell_type": "markdown",
   "id": "45670df8",
   "metadata": {},
   "source": [
    "Numpy is a linear algebra library for python, and one of the most important and popular libraries in Data Science. TensorFlow is a reimplementation of the Numpy API and can be accessed as tf."
   ]
  },
  {
   "cell_type": "markdown",
   "id": "94515308",
   "metadata": {},
   "source": [
    "4.\tCan you name six other data structures available in TensorFlow, beyond regular tensors?"
   ]
  },
  {
   "cell_type": "markdown",
   "id": "090a41f1",
   "metadata": {},
   "source": [
    "Tensors are the basic data structures in TensorFlow, and they represent the connecting edges in a dataflow graph. A tensor simply identifies a multidimensional array or list. The tensor structure can be identified with three parameters: rank, shape, and type. Rank: Identifies the number of dimensions of the tensor."
   ]
  },
  {
   "cell_type": "markdown",
   "id": "42ecbe3b",
   "metadata": {},
   "source": [
    "5.\tWhat are the main rules to respect if you want a function to be convertible to a TF Function?"
   ]
  },
  {
   "cell_type": "markdown",
   "id": "00c26574",
   "metadata": {},
   "source": [
    "Debug in eager mode, then decorate with @tf. function .\n",
    "Don't rely on Python side effects like object mutation or list appends.\n",
    "tf. function works best with TensorFlow ops; NumPy and Python calls are converted to constants."
   ]
  },
  {
   "cell_type": "code",
   "execution_count": null,
   "id": "87b9b01a",
   "metadata": {},
   "outputs": [],
   "source": []
  }
 ],
 "metadata": {
  "kernelspec": {
   "display_name": "Python 3 (ipykernel)",
   "language": "python",
   "name": "python3"
  },
  "language_info": {
   "codemirror_mode": {
    "name": "ipython",
    "version": 3
   },
   "file_extension": ".py",
   "mimetype": "text/x-python",
   "name": "python",
   "nbconvert_exporter": "python",
   "pygments_lexer": "ipython3",
   "version": "3.10.9"
  }
 },
 "nbformat": 4,
 "nbformat_minor": 5
}
