{
 "cells": [
  {
   "cell_type": "markdown",
   "id": "43878815",
   "metadata": {},
   "source": [
    "1.\tWhat are the main tasks that autoencoders are used for?"
   ]
  },
  {
   "cell_type": "markdown",
   "id": "851d38e5",
   "metadata": {},
   "source": [
    "Autoencoders are neural network models primarily used for unsupervised learning tasks such as dimensionality reduction, data compression, and feature extraction. They learn to reconstruct the input data and capture its essential patterns, making them useful for anomaly detection and image-denoising tasks."
   ]
  },
  {
   "cell_type": "markdown",
   "id": "2e26e5ac",
   "metadata": {},
   "source": [
    "2.\tIf an autoencoder perfectly reconstructs the inputs, is it necessarily a good autoencoder? How can you evaluate the performance of an autoencoder?"
   ]
  },
  {
   "cell_type": "markdown",
   "id": "ba6495ee",
   "metadata": {},
   "source": [
    "As this is a machine learning question, no, not at all. If it perfectly reconstructs its training set, then it's probably heavily overfitting, and will give you a near zero predictive power on novel data.The best way to measure the performance would, therefore, be a reconstruction loss that measures how well the autoencoder is able to reconstruct the input from its hidden layer embedding."
   ]
  },
  {
   "cell_type": "markdown",
   "id": "a8ac40bd",
   "metadata": {},
   "source": [
    "3.\tHow do you tie weights in a stacked autoencoder? "
   ]
  },
  {
   "cell_type": "markdown",
   "id": "34105817",
   "metadata": {},
   "source": [
    "Implementation of Tying Weights: To implement tying weights, we need to create a custom layer to tie weights between the layer using keras. This custom layer acts as a regular dense layer, but it uses the transposed weights of the encoder's dense layer, however having its own bias vector."
   ]
  },
  {
   "cell_type": "markdown",
   "id": "674b6b45",
   "metadata": {},
   "source": [
    "4.\tWhat is a generative model? Can you name a type of generative autoencoder?"
   ]
  },
  {
   "cell_type": "markdown",
   "id": "c4b440cf",
   "metadata": {},
   "source": [
    "A generative model includes the distribution of the data itself, and tells you how likely a given example is. For example, models that predict the next word in a sequence are typically generative models (usually much simpler than GANs) because they can assign a probability to a sequence of words.The most used models are Variational Autoencoders (VAEs), Generative Adversarial Networks (GANs), and autoregressive models. Each of these models has advantages and disadvantages, depending on the complexity and quality of the data"
   ]
  },
  {
   "cell_type": "markdown",
   "id": "823cfafb",
   "metadata": {},
   "source": [
    "5.\tWhat is a GAN? Can you name a few tasks where GANs can shine?"
   ]
  },
  {
   "cell_type": "markdown",
   "id": "43d4c1d8",
   "metadata": {},
   "source": [
    "A generative adversarial network (GAN) is a deep learning architecture. It trains two neural networks to compete against each other to generate more authentic new data from a given training dataset. For instance, you can generate new images from an existing image database or original music from a database of songs.Generate examples for Image Datasets. Image-to-Image Translation. Text-to-Image Translation. Semantic-Image-to-Photo Translation"
   ]
  },
  {
   "cell_type": "code",
   "execution_count": null,
   "id": "d0b656fc",
   "metadata": {},
   "outputs": [],
   "source": []
  }
 ],
 "metadata": {
  "kernelspec": {
   "display_name": "Python 3 (ipykernel)",
   "language": "python",
   "name": "python3"
  },
  "language_info": {
   "codemirror_mode": {
    "name": "ipython",
    "version": 3
   },
   "file_extension": ".py",
   "mimetype": "text/x-python",
   "name": "python",
   "nbconvert_exporter": "python",
   "pygments_lexer": "ipython3",
   "version": "3.10.9"
  }
 },
 "nbformat": 4,
 "nbformat_minor": 5
}
